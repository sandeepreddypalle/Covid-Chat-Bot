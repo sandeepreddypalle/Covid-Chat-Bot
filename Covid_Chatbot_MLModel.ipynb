{
 "cells": [
  {
   "cell_type": "code",
   "execution_count": 1,
   "id": "d71f61a2",
   "metadata": {},
   "outputs": [],
   "source": [
    "\n",
    "import pandas as pd\n",
    "import numpy as np\n",
    "import sklearn\n",
    "from sklearn.preprocessing import LabelEncoder"
   ]
  },
  {
   "cell_type": "markdown",
   "id": "cec239fc",
   "metadata": {},
   "source": [
    "Importing the data from CSV file"
   ]
  },
  {
   "cell_type": "code",
   "execution_count": 2,
   "id": "d1d692e0",
   "metadata": {},
   "outputs": [
    {
     "data": {
      "text/html": [
       "<div>\n",
       "<style scoped>\n",
       "    .dataframe tbody tr th:only-of-type {\n",
       "        vertical-align: middle;\n",
       "    }\n",
       "\n",
       "    .dataframe tbody tr th {\n",
       "        vertical-align: top;\n",
       "    }\n",
       "\n",
       "    .dataframe thead th {\n",
       "        text-align: right;\n",
       "    }\n",
       "</style>\n",
       "<table border=\"1\" class=\"dataframe\">\n",
       "  <thead>\n",
       "    <tr style=\"text-align: right;\">\n",
       "      <th></th>\n",
       "      <th>Breathing Problem</th>\n",
       "      <th>Fever</th>\n",
       "      <th>Dry Cough</th>\n",
       "      <th>Sore throat</th>\n",
       "      <th>Running Nose</th>\n",
       "      <th>Asthma</th>\n",
       "      <th>Chronic Lung Disease</th>\n",
       "      <th>Headache</th>\n",
       "      <th>Heart Disease</th>\n",
       "      <th>Diabetes</th>\n",
       "      <th>...</th>\n",
       "      <th>Fatigue</th>\n",
       "      <th>Gastrointestinal</th>\n",
       "      <th>Abroad travel</th>\n",
       "      <th>Contact with COVID Patient</th>\n",
       "      <th>Attended Large Gathering</th>\n",
       "      <th>Visited Public Exposed Places</th>\n",
       "      <th>Family working in Public Exposed Places</th>\n",
       "      <th>Wearing Masks</th>\n",
       "      <th>Sanitization from Market</th>\n",
       "      <th>COVID-19</th>\n",
       "    </tr>\n",
       "  </thead>\n",
       "  <tbody>\n",
       "    <tr>\n",
       "      <th>0</th>\n",
       "      <td>Yes</td>\n",
       "      <td>Yes</td>\n",
       "      <td>Yes</td>\n",
       "      <td>Yes</td>\n",
       "      <td>Yes</td>\n",
       "      <td>No</td>\n",
       "      <td>No</td>\n",
       "      <td>No</td>\n",
       "      <td>No</td>\n",
       "      <td>Yes</td>\n",
       "      <td>...</td>\n",
       "      <td>Yes</td>\n",
       "      <td>Yes</td>\n",
       "      <td>No</td>\n",
       "      <td>Yes</td>\n",
       "      <td>No</td>\n",
       "      <td>Yes</td>\n",
       "      <td>Yes</td>\n",
       "      <td>No</td>\n",
       "      <td>No</td>\n",
       "      <td>Yes</td>\n",
       "    </tr>\n",
       "    <tr>\n",
       "      <th>1</th>\n",
       "      <td>Yes</td>\n",
       "      <td>Yes</td>\n",
       "      <td>Yes</td>\n",
       "      <td>Yes</td>\n",
       "      <td>No</td>\n",
       "      <td>Yes</td>\n",
       "      <td>Yes</td>\n",
       "      <td>Yes</td>\n",
       "      <td>No</td>\n",
       "      <td>No</td>\n",
       "      <td>...</td>\n",
       "      <td>Yes</td>\n",
       "      <td>No</td>\n",
       "      <td>No</td>\n",
       "      <td>No</td>\n",
       "      <td>Yes</td>\n",
       "      <td>Yes</td>\n",
       "      <td>No</td>\n",
       "      <td>No</td>\n",
       "      <td>No</td>\n",
       "      <td>Yes</td>\n",
       "    </tr>\n",
       "    <tr>\n",
       "      <th>2</th>\n",
       "      <td>Yes</td>\n",
       "      <td>Yes</td>\n",
       "      <td>Yes</td>\n",
       "      <td>Yes</td>\n",
       "      <td>Yes</td>\n",
       "      <td>Yes</td>\n",
       "      <td>Yes</td>\n",
       "      <td>Yes</td>\n",
       "      <td>No</td>\n",
       "      <td>Yes</td>\n",
       "      <td>...</td>\n",
       "      <td>Yes</td>\n",
       "      <td>Yes</td>\n",
       "      <td>Yes</td>\n",
       "      <td>No</td>\n",
       "      <td>No</td>\n",
       "      <td>No</td>\n",
       "      <td>No</td>\n",
       "      <td>No</td>\n",
       "      <td>No</td>\n",
       "      <td>Yes</td>\n",
       "    </tr>\n",
       "    <tr>\n",
       "      <th>3</th>\n",
       "      <td>Yes</td>\n",
       "      <td>Yes</td>\n",
       "      <td>Yes</td>\n",
       "      <td>No</td>\n",
       "      <td>No</td>\n",
       "      <td>Yes</td>\n",
       "      <td>No</td>\n",
       "      <td>No</td>\n",
       "      <td>Yes</td>\n",
       "      <td>Yes</td>\n",
       "      <td>...</td>\n",
       "      <td>No</td>\n",
       "      <td>No</td>\n",
       "      <td>Yes</td>\n",
       "      <td>No</td>\n",
       "      <td>Yes</td>\n",
       "      <td>Yes</td>\n",
       "      <td>No</td>\n",
       "      <td>No</td>\n",
       "      <td>No</td>\n",
       "      <td>Yes</td>\n",
       "    </tr>\n",
       "    <tr>\n",
       "      <th>4</th>\n",
       "      <td>Yes</td>\n",
       "      <td>Yes</td>\n",
       "      <td>Yes</td>\n",
       "      <td>Yes</td>\n",
       "      <td>Yes</td>\n",
       "      <td>No</td>\n",
       "      <td>Yes</td>\n",
       "      <td>Yes</td>\n",
       "      <td>Yes</td>\n",
       "      <td>Yes</td>\n",
       "      <td>...</td>\n",
       "      <td>No</td>\n",
       "      <td>Yes</td>\n",
       "      <td>No</td>\n",
       "      <td>Yes</td>\n",
       "      <td>No</td>\n",
       "      <td>Yes</td>\n",
       "      <td>No</td>\n",
       "      <td>No</td>\n",
       "      <td>No</td>\n",
       "      <td>Yes</td>\n",
       "    </tr>\n",
       "  </tbody>\n",
       "</table>\n",
       "<p>5 rows × 21 columns</p>\n",
       "</div>"
      ],
      "text/plain": [
       "  Breathing Problem Fever Dry Cough Sore throat Running Nose Asthma  \\\n",
       "0               Yes   Yes       Yes         Yes          Yes     No   \n",
       "1               Yes   Yes       Yes         Yes           No    Yes   \n",
       "2               Yes   Yes       Yes         Yes          Yes    Yes   \n",
       "3               Yes   Yes       Yes          No           No    Yes   \n",
       "4               Yes   Yes       Yes         Yes          Yes     No   \n",
       "\n",
       "  Chronic Lung Disease Headache Heart Disease Diabetes  ... Fatigue   \\\n",
       "0                   No       No            No      Yes  ...      Yes   \n",
       "1                  Yes      Yes            No       No  ...      Yes   \n",
       "2                  Yes      Yes            No      Yes  ...      Yes   \n",
       "3                   No       No           Yes      Yes  ...       No   \n",
       "4                  Yes      Yes           Yes      Yes  ...       No   \n",
       "\n",
       "  Gastrointestinal  Abroad travel Contact with COVID Patient  \\\n",
       "0               Yes            No                        Yes   \n",
       "1                No            No                         No   \n",
       "2               Yes           Yes                         No   \n",
       "3                No           Yes                         No   \n",
       "4               Yes            No                        Yes   \n",
       "\n",
       "  Attended Large Gathering Visited Public Exposed Places  \\\n",
       "0                       No                           Yes   \n",
       "1                      Yes                           Yes   \n",
       "2                       No                            No   \n",
       "3                      Yes                           Yes   \n",
       "4                       No                           Yes   \n",
       "\n",
       "  Family working in Public Exposed Places Wearing Masks  \\\n",
       "0                                     Yes            No   \n",
       "1                                      No            No   \n",
       "2                                      No            No   \n",
       "3                                      No            No   \n",
       "4                                      No            No   \n",
       "\n",
       "  Sanitization from Market COVID-19  \n",
       "0                       No      Yes  \n",
       "1                       No      Yes  \n",
       "2                       No      Yes  \n",
       "3                       No      Yes  \n",
       "4                       No      Yes  \n",
       "\n",
       "[5 rows x 21 columns]"
      ]
     },
     "execution_count": 2,
     "metadata": {},
     "output_type": "execute_result"
    }
   ],
   "source": [
    "data = pd.read_csv('Covid Dataset.csv')\n",
    "data.head()"
   ]
  },
  {
   "cell_type": "markdown",
   "id": "9f64f38e",
   "metadata": {},
   "source": [
    "Analyzing the features data"
   ]
  },
  {
   "cell_type": "code",
   "execution_count": 3,
   "id": "a527f397",
   "metadata": {},
   "outputs": [
    {
     "data": {
      "text/plain": [
       "Index(['Breathing Problem', 'Fever', 'Dry Cough', 'Sore throat',\n",
       "       'Running Nose', 'Asthma', 'Chronic Lung Disease', 'Headache',\n",
       "       'Heart Disease', 'Diabetes', 'Hyper Tension', 'Fatigue ',\n",
       "       'Gastrointestinal ', 'Abroad travel', 'Contact with COVID Patient',\n",
       "       'Attended Large Gathering', 'Visited Public Exposed Places',\n",
       "       'Family working in Public Exposed Places', 'Wearing Masks',\n",
       "       'Sanitization from Market', 'COVID-19'],\n",
       "      dtype='object')"
      ]
     },
     "execution_count": 3,
     "metadata": {},
     "output_type": "execute_result"
    }
   ],
   "source": [
    "data.columns"
   ]
  },
  {
   "cell_type": "code",
   "execution_count": 4,
   "id": "9e9152bb",
   "metadata": {},
   "outputs": [
    {
     "data": {
      "text/plain": [
       "Breathing Problem                          0\n",
       "Fever                                      0\n",
       "Dry Cough                                  0\n",
       "Sore throat                                0\n",
       "Running Nose                               0\n",
       "Asthma                                     0\n",
       "Chronic Lung Disease                       0\n",
       "Headache                                   0\n",
       "Heart Disease                              0\n",
       "Diabetes                                   0\n",
       "Hyper Tension                              0\n",
       "Fatigue                                    0\n",
       "Gastrointestinal                           0\n",
       "Abroad travel                              0\n",
       "Contact with COVID Patient                 0\n",
       "Attended Large Gathering                   0\n",
       "Visited Public Exposed Places              0\n",
       "Family working in Public Exposed Places    0\n",
       "Wearing Masks                              0\n",
       "Sanitization from Market                   0\n",
       "COVID-19                                   0\n",
       "dtype: int64"
      ]
     },
     "execution_count": 4,
     "metadata": {},
     "output_type": "execute_result"
    }
   ],
   "source": [
    "data.isnull().sum()"
   ]
  },
  {
   "cell_type": "code",
   "execution_count": 5,
   "id": "7470eb81",
   "metadata": {},
   "outputs": [
    {
     "data": {
      "text/html": [
       "<div>\n",
       "<style scoped>\n",
       "    .dataframe tbody tr th:only-of-type {\n",
       "        vertical-align: middle;\n",
       "    }\n",
       "\n",
       "    .dataframe tbody tr th {\n",
       "        vertical-align: top;\n",
       "    }\n",
       "\n",
       "    .dataframe thead th {\n",
       "        text-align: right;\n",
       "    }\n",
       "</style>\n",
       "<table border=\"1\" class=\"dataframe\">\n",
       "  <thead>\n",
       "    <tr style=\"text-align: right;\">\n",
       "      <th></th>\n",
       "      <th>Breathing Problem</th>\n",
       "      <th>Fever</th>\n",
       "      <th>Dry Cough</th>\n",
       "      <th>Sore throat</th>\n",
       "      <th>Running Nose</th>\n",
       "      <th>Asthma</th>\n",
       "      <th>Chronic Lung Disease</th>\n",
       "      <th>Headache</th>\n",
       "      <th>Heart Disease</th>\n",
       "      <th>Diabetes</th>\n",
       "      <th>...</th>\n",
       "      <th>Fatigue</th>\n",
       "      <th>Gastrointestinal</th>\n",
       "      <th>Abroad travel</th>\n",
       "      <th>Contact with COVID Patient</th>\n",
       "      <th>Attended Large Gathering</th>\n",
       "      <th>Visited Public Exposed Places</th>\n",
       "      <th>Family working in Public Exposed Places</th>\n",
       "      <th>Wearing Masks</th>\n",
       "      <th>Sanitization from Market</th>\n",
       "      <th>COVID-19</th>\n",
       "    </tr>\n",
       "  </thead>\n",
       "  <tbody>\n",
       "    <tr>\n",
       "      <th>count</th>\n",
       "      <td>5434</td>\n",
       "      <td>5434</td>\n",
       "      <td>5434</td>\n",
       "      <td>5434</td>\n",
       "      <td>5434</td>\n",
       "      <td>5434</td>\n",
       "      <td>5434</td>\n",
       "      <td>5434</td>\n",
       "      <td>5434</td>\n",
       "      <td>5434</td>\n",
       "      <td>...</td>\n",
       "      <td>5434</td>\n",
       "      <td>5434</td>\n",
       "      <td>5434</td>\n",
       "      <td>5434</td>\n",
       "      <td>5434</td>\n",
       "      <td>5434</td>\n",
       "      <td>5434</td>\n",
       "      <td>5434</td>\n",
       "      <td>5434</td>\n",
       "      <td>5434</td>\n",
       "    </tr>\n",
       "    <tr>\n",
       "      <th>unique</th>\n",
       "      <td>2</td>\n",
       "      <td>2</td>\n",
       "      <td>2</td>\n",
       "      <td>2</td>\n",
       "      <td>2</td>\n",
       "      <td>2</td>\n",
       "      <td>2</td>\n",
       "      <td>2</td>\n",
       "      <td>2</td>\n",
       "      <td>2</td>\n",
       "      <td>...</td>\n",
       "      <td>2</td>\n",
       "      <td>2</td>\n",
       "      <td>2</td>\n",
       "      <td>2</td>\n",
       "      <td>2</td>\n",
       "      <td>2</td>\n",
       "      <td>2</td>\n",
       "      <td>1</td>\n",
       "      <td>1</td>\n",
       "      <td>2</td>\n",
       "    </tr>\n",
       "    <tr>\n",
       "      <th>top</th>\n",
       "      <td>Yes</td>\n",
       "      <td>Yes</td>\n",
       "      <td>Yes</td>\n",
       "      <td>Yes</td>\n",
       "      <td>Yes</td>\n",
       "      <td>No</td>\n",
       "      <td>No</td>\n",
       "      <td>Yes</td>\n",
       "      <td>No</td>\n",
       "      <td>No</td>\n",
       "      <td>...</td>\n",
       "      <td>Yes</td>\n",
       "      <td>No</td>\n",
       "      <td>No</td>\n",
       "      <td>Yes</td>\n",
       "      <td>No</td>\n",
       "      <td>Yes</td>\n",
       "      <td>No</td>\n",
       "      <td>No</td>\n",
       "      <td>No</td>\n",
       "      <td>Yes</td>\n",
       "    </tr>\n",
       "    <tr>\n",
       "      <th>freq</th>\n",
       "      <td>3620</td>\n",
       "      <td>4273</td>\n",
       "      <td>4307</td>\n",
       "      <td>3953</td>\n",
       "      <td>2952</td>\n",
       "      <td>2920</td>\n",
       "      <td>2869</td>\n",
       "      <td>2736</td>\n",
       "      <td>2911</td>\n",
       "      <td>2846</td>\n",
       "      <td>...</td>\n",
       "      <td>2821</td>\n",
       "      <td>2883</td>\n",
       "      <td>2983</td>\n",
       "      <td>2726</td>\n",
       "      <td>2924</td>\n",
       "      <td>2820</td>\n",
       "      <td>3172</td>\n",
       "      <td>5434</td>\n",
       "      <td>5434</td>\n",
       "      <td>4383</td>\n",
       "    </tr>\n",
       "  </tbody>\n",
       "</table>\n",
       "<p>4 rows × 21 columns</p>\n",
       "</div>"
      ],
      "text/plain": [
       "       Breathing Problem Fever Dry Cough Sore throat Running Nose Asthma  \\\n",
       "count               5434  5434      5434        5434         5434   5434   \n",
       "unique                 2     2         2           2            2      2   \n",
       "top                  Yes   Yes       Yes         Yes          Yes     No   \n",
       "freq                3620  4273      4307        3953         2952   2920   \n",
       "\n",
       "       Chronic Lung Disease Headache Heart Disease Diabetes  ... Fatigue   \\\n",
       "count                  5434     5434          5434     5434  ...     5434   \n",
       "unique                    2        2             2        2  ...        2   \n",
       "top                      No      Yes            No       No  ...      Yes   \n",
       "freq                   2869     2736          2911     2846  ...     2821   \n",
       "\n",
       "       Gastrointestinal  Abroad travel Contact with COVID Patient  \\\n",
       "count               5434          5434                       5434   \n",
       "unique                 2             2                          2   \n",
       "top                   No            No                        Yes   \n",
       "freq                2883          2983                       2726   \n",
       "\n",
       "       Attended Large Gathering Visited Public Exposed Places  \\\n",
       "count                      5434                          5434   \n",
       "unique                        2                             2   \n",
       "top                          No                           Yes   \n",
       "freq                       2924                          2820   \n",
       "\n",
       "       Family working in Public Exposed Places Wearing Masks  \\\n",
       "count                                     5434          5434   \n",
       "unique                                       2             1   \n",
       "top                                         No            No   \n",
       "freq                                      3172          5434   \n",
       "\n",
       "       Sanitization from Market COVID-19  \n",
       "count                      5434     5434  \n",
       "unique                        1        2  \n",
       "top                          No      Yes  \n",
       "freq                       5434     4383  \n",
       "\n",
       "[4 rows x 21 columns]"
      ]
     },
     "execution_count": 5,
     "metadata": {},
     "output_type": "execute_result"
    }
   ],
   "source": [
    "data.describe()"
   ]
  },
  {
   "cell_type": "code",
   "execution_count": 6,
   "id": "573611b8",
   "metadata": {},
   "outputs": [
    {
     "name": "stdout",
     "output_type": "stream",
     "text": [
      "Breathing Problem : ['Yes' 'No']\n",
      "\n",
      "Fever : ['Yes' 'No']\n",
      "\n",
      "Dry Cough : ['Yes' 'No']\n",
      "\n",
      "Sore throat : ['Yes' 'No']\n",
      "\n",
      "Running Nose : ['Yes' 'No']\n",
      "\n",
      "Asthma : ['No' 'Yes']\n",
      "\n",
      "Chronic Lung Disease : ['No' 'Yes']\n",
      "\n",
      "Headache : ['No' 'Yes']\n",
      "\n",
      "Heart Disease : ['No' 'Yes']\n",
      "\n",
      "Diabetes : ['Yes' 'No']\n",
      "\n",
      "Hyper Tension : ['Yes' 'No']\n",
      "\n",
      "Fatigue  : ['Yes' 'No']\n",
      "\n",
      "Gastrointestinal  : ['Yes' 'No']\n",
      "\n",
      "Abroad travel : ['No' 'Yes']\n",
      "\n",
      "Contact with COVID Patient : ['Yes' 'No']\n",
      "\n",
      "Attended Large Gathering : ['No' 'Yes']\n",
      "\n",
      "Visited Public Exposed Places : ['Yes' 'No']\n",
      "\n",
      "Family working in Public Exposed Places : ['Yes' 'No']\n",
      "\n",
      "Wearing Masks : ['No']\n",
      "\n",
      "Sanitization from Market : ['No']\n",
      "\n",
      "COVID-19 : ['Yes' 'No']\n",
      "\n"
     ]
    }
   ],
   "source": [
    "for col in data:\n",
    "    print(f'{col} : {data[col].unique()}')\n",
    "    print()\n",
    "    "
   ]
  },
  {
   "cell_type": "markdown",
   "id": "d041d13a",
   "metadata": {},
   "source": [
    "There is only one value for the features 'Wearing Masks' and 'Sanitization from Market', so it does not show any effect on the predictand removing those columns"
   ]
  },
  {
   "cell_type": "code",
   "execution_count": 7,
   "id": "fda319d6",
   "metadata": {},
   "outputs": [],
   "source": [
    "data = data.drop(['Wearing Masks','Sanitization from Market'], axis = 1)"
   ]
  },
  {
   "cell_type": "markdown",
   "id": "9de7ffe1",
   "metadata": {},
   "source": [
    "Endcoding all the features values with help of Label Encoder"
   ]
  },
  {
   "cell_type": "code",
   "execution_count": 8,
   "id": "2bdc9f9d",
   "metadata": {},
   "outputs": [
    {
     "name": "stdout",
     "output_type": "stream",
     "text": [
      "['Breathing Problem', 'Fever', 'Dry Cough', 'Sore throat', 'Running Nose', 'Asthma', 'Chronic Lung Disease', 'Headache', 'Heart Disease', 'Diabetes', 'Hyper Tension', 'Fatigue ', 'Gastrointestinal ', 'Abroad travel', 'Contact with COVID Patient', 'Attended Large Gathering', 'Visited Public Exposed Places', 'Family working in Public Exposed Places', 'COVID-19']\n"
     ]
    },
    {
     "name": "stderr",
     "output_type": "stream",
     "text": [
      "C:\\Users\\User\\anaconda3\\lib\\site-packages\\sklearn\\utils\\validation.py:63: DataConversionWarning: A column-vector y was passed when a 1d array was expected. Please change the shape of y to (n_samples, ), for example using ravel().\n",
      "  return f(*args, **kwargs)\n"
     ]
    }
   ],
   "source": [
    "#connvert categorical data into dummy indicators\n",
    "columns = data.columns\n",
    "\n",
    "cat_col=data.select_dtypes(include=['object','category']).columns.tolist()\n",
    "print(cat_col)\n",
    "encoder = LabelEncoder()\n",
    "\n",
    "#intiate LabelEncoder\n",
    "for col in cat_col:\n",
    "    data[col] = pd.DataFrame(encoder.fit_transform(data[[col]]))"
   ]
  },
  {
   "cell_type": "markdown",
   "id": "7e44840e",
   "metadata": {},
   "source": [
    "Checking the values after encoding"
   ]
  },
  {
   "cell_type": "code",
   "execution_count": 9,
   "id": "1c66d8ac",
   "metadata": {},
   "outputs": [
    {
     "data": {
      "text/html": [
       "<div>\n",
       "<style scoped>\n",
       "    .dataframe tbody tr th:only-of-type {\n",
       "        vertical-align: middle;\n",
       "    }\n",
       "\n",
       "    .dataframe tbody tr th {\n",
       "        vertical-align: top;\n",
       "    }\n",
       "\n",
       "    .dataframe thead th {\n",
       "        text-align: right;\n",
       "    }\n",
       "</style>\n",
       "<table border=\"1\" class=\"dataframe\">\n",
       "  <thead>\n",
       "    <tr style=\"text-align: right;\">\n",
       "      <th></th>\n",
       "      <th>Breathing Problem</th>\n",
       "      <th>Fever</th>\n",
       "      <th>Dry Cough</th>\n",
       "      <th>Sore throat</th>\n",
       "      <th>Running Nose</th>\n",
       "      <th>Asthma</th>\n",
       "      <th>Chronic Lung Disease</th>\n",
       "      <th>Headache</th>\n",
       "      <th>Heart Disease</th>\n",
       "      <th>Diabetes</th>\n",
       "      <th>Hyper Tension</th>\n",
       "      <th>Fatigue</th>\n",
       "      <th>Gastrointestinal</th>\n",
       "      <th>Abroad travel</th>\n",
       "      <th>Contact with COVID Patient</th>\n",
       "      <th>Attended Large Gathering</th>\n",
       "      <th>Visited Public Exposed Places</th>\n",
       "      <th>Family working in Public Exposed Places</th>\n",
       "      <th>COVID-19</th>\n",
       "    </tr>\n",
       "  </thead>\n",
       "  <tbody>\n",
       "    <tr>\n",
       "      <th>0</th>\n",
       "      <td>1</td>\n",
       "      <td>1</td>\n",
       "      <td>1</td>\n",
       "      <td>1</td>\n",
       "      <td>1</td>\n",
       "      <td>0</td>\n",
       "      <td>0</td>\n",
       "      <td>0</td>\n",
       "      <td>0</td>\n",
       "      <td>1</td>\n",
       "      <td>1</td>\n",
       "      <td>1</td>\n",
       "      <td>1</td>\n",
       "      <td>0</td>\n",
       "      <td>1</td>\n",
       "      <td>0</td>\n",
       "      <td>1</td>\n",
       "      <td>1</td>\n",
       "      <td>1</td>\n",
       "    </tr>\n",
       "    <tr>\n",
       "      <th>1</th>\n",
       "      <td>1</td>\n",
       "      <td>1</td>\n",
       "      <td>1</td>\n",
       "      <td>1</td>\n",
       "      <td>0</td>\n",
       "      <td>1</td>\n",
       "      <td>1</td>\n",
       "      <td>1</td>\n",
       "      <td>0</td>\n",
       "      <td>0</td>\n",
       "      <td>0</td>\n",
       "      <td>1</td>\n",
       "      <td>0</td>\n",
       "      <td>0</td>\n",
       "      <td>0</td>\n",
       "      <td>1</td>\n",
       "      <td>1</td>\n",
       "      <td>0</td>\n",
       "      <td>1</td>\n",
       "    </tr>\n",
       "    <tr>\n",
       "      <th>2</th>\n",
       "      <td>1</td>\n",
       "      <td>1</td>\n",
       "      <td>1</td>\n",
       "      <td>1</td>\n",
       "      <td>1</td>\n",
       "      <td>1</td>\n",
       "      <td>1</td>\n",
       "      <td>1</td>\n",
       "      <td>0</td>\n",
       "      <td>1</td>\n",
       "      <td>0</td>\n",
       "      <td>1</td>\n",
       "      <td>1</td>\n",
       "      <td>1</td>\n",
       "      <td>0</td>\n",
       "      <td>0</td>\n",
       "      <td>0</td>\n",
       "      <td>0</td>\n",
       "      <td>1</td>\n",
       "    </tr>\n",
       "    <tr>\n",
       "      <th>3</th>\n",
       "      <td>1</td>\n",
       "      <td>1</td>\n",
       "      <td>1</td>\n",
       "      <td>0</td>\n",
       "      <td>0</td>\n",
       "      <td>1</td>\n",
       "      <td>0</td>\n",
       "      <td>0</td>\n",
       "      <td>1</td>\n",
       "      <td>1</td>\n",
       "      <td>0</td>\n",
       "      <td>0</td>\n",
       "      <td>0</td>\n",
       "      <td>1</td>\n",
       "      <td>0</td>\n",
       "      <td>1</td>\n",
       "      <td>1</td>\n",
       "      <td>0</td>\n",
       "      <td>1</td>\n",
       "    </tr>\n",
       "    <tr>\n",
       "      <th>4</th>\n",
       "      <td>1</td>\n",
       "      <td>1</td>\n",
       "      <td>1</td>\n",
       "      <td>1</td>\n",
       "      <td>1</td>\n",
       "      <td>0</td>\n",
       "      <td>1</td>\n",
       "      <td>1</td>\n",
       "      <td>1</td>\n",
       "      <td>1</td>\n",
       "      <td>1</td>\n",
       "      <td>0</td>\n",
       "      <td>1</td>\n",
       "      <td>0</td>\n",
       "      <td>1</td>\n",
       "      <td>0</td>\n",
       "      <td>1</td>\n",
       "      <td>0</td>\n",
       "      <td>1</td>\n",
       "    </tr>\n",
       "  </tbody>\n",
       "</table>\n",
       "</div>"
      ],
      "text/plain": [
       "   Breathing Problem  Fever  Dry Cough  Sore throat  Running Nose  Asthma  \\\n",
       "0                  1      1          1            1             1       0   \n",
       "1                  1      1          1            1             0       1   \n",
       "2                  1      1          1            1             1       1   \n",
       "3                  1      1          1            0             0       1   \n",
       "4                  1      1          1            1             1       0   \n",
       "\n",
       "   Chronic Lung Disease  Headache  Heart Disease  Diabetes  Hyper Tension  \\\n",
       "0                     0         0              0         1              1   \n",
       "1                     1         1              0         0              0   \n",
       "2                     1         1              0         1              0   \n",
       "3                     0         0              1         1              0   \n",
       "4                     1         1              1         1              1   \n",
       "\n",
       "   Fatigue   Gastrointestinal   Abroad travel  Contact with COVID Patient  \\\n",
       "0         1                  1              0                           1   \n",
       "1         1                  0              0                           0   \n",
       "2         1                  1              1                           0   \n",
       "3         0                  0              1                           0   \n",
       "4         0                  1              0                           1   \n",
       "\n",
       "   Attended Large Gathering  Visited Public Exposed Places  \\\n",
       "0                         0                              1   \n",
       "1                         1                              1   \n",
       "2                         0                              0   \n",
       "3                         1                              1   \n",
       "4                         0                              1   \n",
       "\n",
       "   Family working in Public Exposed Places  COVID-19  \n",
       "0                                        1         1  \n",
       "1                                        0         1  \n",
       "2                                        0         1  \n",
       "3                                        0         1  \n",
       "4                                        0         1  "
      ]
     },
     "execution_count": 9,
     "metadata": {},
     "output_type": "execute_result"
    }
   ],
   "source": [
    "data.head()"
   ]
  },
  {
   "cell_type": "markdown",
   "id": "92af6128",
   "metadata": {},
   "source": [
    "Plotting heatmap with corelations to identify and deal with weakly correlated values"
   ]
  },
  {
   "cell_type": "code",
   "execution_count": 10,
   "id": "a380708f",
   "metadata": {},
   "outputs": [
    {
     "data": {
      "text/plain": [
       "<AxesSubplot:>"
      ]
     },
     "execution_count": 10,
     "metadata": {},
     "output_type": "execute_result"
    },
    {
     "data": {
      "image/png": "[encoded data removed]",
      "text/plain": [
       "<Figure size 1296x1296 with 2 Axes>"
      ]
     },
     "metadata": {
      "needs_background": "light"
     },
     "output_type": "display_data"
    }
   ],
   "source": [
    "import matplotlib.pyplot as plt\n",
    "import seaborn as sb\n",
    "\n",
    "plt.figure(figsize=(18,18))\n",
    "sb.heatmap(data.corr(),annot=True, mask=np.triu(data.corr()))"
   ]
  },
  {
   "cell_type": "markdown",
   "id": "fd333037",
   "metadata": {},
   "source": [
    "Running nose,Headache, Heart disease, Fatigue and Gastrointestinal features have a very less correlation with the predictand(COVID-19). So removing them from the Dataframe before we develop model"
   ]
  },
  {
   "cell_type": "code",
   "execution_count": 11,
   "id": "d47a2a87",
   "metadata": {},
   "outputs": [
    {
     "name": "stdout",
     "output_type": "stream",
     "text": [
      "(5434, 14)\n"
     ]
    },
    {
     "data": {
      "text/html": [
       "<div>\n",
       "<style scoped>\n",
       "    .dataframe tbody tr th:only-of-type {\n",
       "        vertical-align: middle;\n",
       "    }\n",
       "\n",
       "    .dataframe tbody tr th {\n",
       "        vertical-align: top;\n",
       "    }\n",
       "\n",
       "    .dataframe thead th {\n",
       "        text-align: right;\n",
       "    }\n",
       "</style>\n",
       "<table border=\"1\" class=\"dataframe\">\n",
       "  <thead>\n",
       "    <tr style=\"text-align: right;\">\n",
       "      <th></th>\n",
       "      <th>Breathing Problem</th>\n",
       "      <th>Fever</th>\n",
       "      <th>Dry Cough</th>\n",
       "      <th>Sore throat</th>\n",
       "      <th>Asthma</th>\n",
       "      <th>Chronic Lung Disease</th>\n",
       "      <th>Diabetes</th>\n",
       "      <th>Hyper Tension</th>\n",
       "      <th>Abroad travel</th>\n",
       "      <th>Contact with COVID Patient</th>\n",
       "      <th>Attended Large Gathering</th>\n",
       "      <th>Visited Public Exposed Places</th>\n",
       "      <th>Family working in Public Exposed Places</th>\n",
       "      <th>COVID-19</th>\n",
       "    </tr>\n",
       "  </thead>\n",
       "  <tbody>\n",
       "    <tr>\n",
       "      <th>0</th>\n",
       "      <td>1</td>\n",
       "      <td>1</td>\n",
       "      <td>1</td>\n",
       "      <td>1</td>\n",
       "      <td>0</td>\n",
       "      <td>0</td>\n",
       "      <td>1</td>\n",
       "      <td>1</td>\n",
       "      <td>0</td>\n",
       "      <td>1</td>\n",
       "      <td>0</td>\n",
       "      <td>1</td>\n",
       "      <td>1</td>\n",
       "      <td>1</td>\n",
       "    </tr>\n",
       "    <tr>\n",
       "      <th>1</th>\n",
       "      <td>1</td>\n",
       "      <td>1</td>\n",
       "      <td>1</td>\n",
       "      <td>1</td>\n",
       "      <td>1</td>\n",
       "      <td>1</td>\n",
       "      <td>0</td>\n",
       "      <td>0</td>\n",
       "      <td>0</td>\n",
       "      <td>0</td>\n",
       "      <td>1</td>\n",
       "      <td>1</td>\n",
       "      <td>0</td>\n",
       "      <td>1</td>\n",
       "    </tr>\n",
       "    <tr>\n",
       "      <th>2</th>\n",
       "      <td>1</td>\n",
       "      <td>1</td>\n",
       "      <td>1</td>\n",
       "      <td>1</td>\n",
       "      <td>1</td>\n",
       "      <td>1</td>\n",
       "      <td>1</td>\n",
       "      <td>0</td>\n",
       "      <td>1</td>\n",
       "      <td>0</td>\n",
       "      <td>0</td>\n",
       "      <td>0</td>\n",
       "      <td>0</td>\n",
       "      <td>1</td>\n",
       "    </tr>\n",
       "    <tr>\n",
       "      <th>3</th>\n",
       "      <td>1</td>\n",
       "      <td>1</td>\n",
       "      <td>1</td>\n",
       "      <td>0</td>\n",
       "      <td>1</td>\n",
       "      <td>0</td>\n",
       "      <td>1</td>\n",
       "      <td>0</td>\n",
       "      <td>1</td>\n",
       "      <td>0</td>\n",
       "      <td>1</td>\n",
       "      <td>1</td>\n",
       "      <td>0</td>\n",
       "      <td>1</td>\n",
       "    </tr>\n",
       "    <tr>\n",
       "      <th>4</th>\n",
       "      <td>1</td>\n",
       "      <td>1</td>\n",
       "      <td>1</td>\n",
       "      <td>1</td>\n",
       "      <td>0</td>\n",
       "      <td>1</td>\n",
       "      <td>1</td>\n",
       "      <td>1</td>\n",
       "      <td>0</td>\n",
       "      <td>1</td>\n",
       "      <td>0</td>\n",
       "      <td>1</td>\n",
       "      <td>0</td>\n",
       "      <td>1</td>\n",
       "    </tr>\n",
       "  </tbody>\n",
       "</table>\n",
       "</div>"
      ],
      "text/plain": [
       "   Breathing Problem  Fever  Dry Cough  Sore throat  Asthma  \\\n",
       "0                  1      1          1            1       0   \n",
       "1                  1      1          1            1       1   \n",
       "2                  1      1          1            1       1   \n",
       "3                  1      1          1            0       1   \n",
       "4                  1      1          1            1       0   \n",
       "\n",
       "   Chronic Lung Disease  Diabetes  Hyper Tension  Abroad travel  \\\n",
       "0                     0         1              1              0   \n",
       "1                     1         0              0              0   \n",
       "2                     1         1              0              1   \n",
       "3                     0         1              0              1   \n",
       "4                     1         1              1              0   \n",
       "\n",
       "   Contact with COVID Patient  Attended Large Gathering  \\\n",
       "0                           1                         0   \n",
       "1                           0                         1   \n",
       "2                           0                         0   \n",
       "3                           0                         1   \n",
       "4                           1                         0   \n",
       "\n",
       "   Visited Public Exposed Places  Family working in Public Exposed Places  \\\n",
       "0                              1                                        1   \n",
       "1                              1                                        0   \n",
       "2                              0                                        0   \n",
       "3                              1                                        0   \n",
       "4                              1                                        0   \n",
       "\n",
       "   COVID-19  \n",
       "0         1  \n",
       "1         1  \n",
       "2         1  \n",
       "3         1  \n",
       "4         1  "
      ]
     },
     "execution_count": 11,
     "metadata": {},
     "output_type": "execute_result"
    }
   ],
   "source": [
    "data = data.drop(['Running Nose','Headache','Heart Disease','Fatigue ','Gastrointestinal '],axis = 1)\n",
    "print(data.shape)\n",
    "data.head()"
   ]
  },
  {
   "cell_type": "markdown",
   "id": "046ef3f9",
   "metadata": {},
   "source": [
    "Checking the distribution of predictant(COVID-19) values to check if the data is biased or not"
   ]
  },
  {
   "cell_type": "code",
   "execution_count": 12,
   "id": "55db4362",
   "metadata": {},
   "outputs": [
    {
     "data": {
      "image/png": "[encoded data removed]",
      "text/plain": [
       "<Figure size 432x288 with 1 Axes>"
      ]
     },
     "metadata": {
      "needs_background": "light"
     },
     "output_type": "display_data"
    }
   ],
   "source": [
    "sb.countplot(x = 'COVID-19', data = data)\n",
    "plt.show()"
   ]
  },
  {
   "cell_type": "markdown",
   "id": "c4adad76",
   "metadata": {},
   "source": [
    "From the above countplot, the values 0 and 1 are not equally distributed and data is biased towards 1. "
   ]
  },
  {
   "cell_type": "markdown",
   "id": "1b81b36f",
   "metadata": {},
   "source": [
    "Using Smote algorithm to overcome the issues of imbalenced data on COVID-19 column and\n",
    "Splitting the data for training and testing"
   ]
  },
  {
   "cell_type": "code",
   "execution_count": 13,
   "id": "170ca372",
   "metadata": {},
   "outputs": [
    {
     "name": "stdout",
     "output_type": "stream",
     "text": [
      "Before Counter({1: 4383, 0: 1051})\n",
      "After Counter({1: 4383, 0: 4383})\n"
     ]
    }
   ],
   "source": [
    "from sklearn.model_selection import train_test_split\n",
    "y = data['COVID-19'].values\n",
    "X= data.drop(columns=['COVID-19'],axis=1).values\n",
    "\n",
    "from collections import Counter\n",
    "from imblearn.over_sampling import SMOTE\n",
    "\n",
    "counter = Counter(y)\n",
    "print('Before',counter)\n",
    "\n",
    "smt = SMOTE()\n",
    "\n",
    "X, y = smt.fit_resample(X,y)\n",
    "\n",
    "X_train, X_test, y_train, y_test = train_test_split(X, y, test_size=0.33, random_state=30)\n",
    "\n",
    "counter = Counter(y)\n",
    "print('After',counter)"
   ]
  },
  {
   "cell_type": "markdown",
   "id": "022f9010",
   "metadata": {},
   "source": [
    "If imlearn is not installed.. Run this command to install -> conda install -c conda-forge imbalanced-learn"
   ]
  },
  {
   "cell_type": "markdown",
   "id": "f620c906",
   "metadata": {},
   "source": [
    "Developing the model with the train data after smoting and finding the predictands for test data"
   ]
  },
  {
   "cell_type": "code",
   "execution_count": 14,
   "id": "5863fd8f",
   "metadata": {},
   "outputs": [],
   "source": [
    "from sklearn.naive_bayes import GaussianNB\n",
    "\n",
    "gnb = GaussianNB()\n",
    "\n",
    "y_pred = gnb.fit(X_train, y_train).predict(X_test)\n"
   ]
  },
  {
   "cell_type": "markdown",
   "id": "11267a79",
   "metadata": {},
   "source": [
    "Importing the f1_score metrics method and checking the metrics score for y_pred"
   ]
  },
  {
   "cell_type": "code",
   "execution_count": 15,
   "id": "c3493d21",
   "metadata": {},
   "outputs": [
    {
     "data": {
      "text/plain": [
       "0.8070898598516075"
      ]
     },
     "execution_count": 15,
     "metadata": {},
     "output_type": "execute_result"
    }
   ],
   "source": [
    "from sklearn.metrics import f1_score\n",
    "f1_score(y_test, y_pred, zero_division=1)"
   ]
  },
  {
   "cell_type": "markdown",
   "id": "c010efd1",
   "metadata": {},
   "source": [
    "Implementing Random forest algorithm for the training data"
   ]
  },
  {
   "cell_type": "code",
   "execution_count": 16,
   "id": "9c210a96",
   "metadata": {},
   "outputs": [],
   "source": [
    "from sklearn.ensemble import RandomForestClassifier\n",
    "from sklearn.datasets import make_classification\n",
    "X_train, y_train = make_classification(n_samples=1000, n_features=13,n_informative=2, n_redundant=0,random_state=0, shuffle=False)\n",
    "clf = RandomForestClassifier(random_state=0)\n",
    "y_pred_rand = clf.fit(X_train, y_train).predict(X_test)"
   ]
  },
  {
   "cell_type": "markdown",
   "id": "f2061f5f",
   "metadata": {},
   "source": [
    "Checking f1 score for prediction values"
   ]
  },
  {
   "cell_type": "code",
   "execution_count": 17,
   "id": "164624c0",
   "metadata": {},
   "outputs": [
    {
     "data": {
      "text/plain": [
       "0.6668202764976958"
      ]
     },
     "execution_count": 17,
     "metadata": {},
     "output_type": "execute_result"
    }
   ],
   "source": [
    "from sklearn.metrics import f1_score\n",
    "f1_score(y_test, y_pred_rand, zero_division=1)"
   ]
  },
  {
   "cell_type": "markdown",
   "id": "6c26b803",
   "metadata": {},
   "source": [
    "Ramdom forest got the  mertics score of 0.66"
   ]
  },
  {
   "cell_type": "markdown",
   "id": "c6f52768",
   "metadata": {},
   "source": [
    "Checking the columns order and taking corresponding values from the user to predict his condition"
   ]
  },
  {
   "cell_type": "code",
   "execution_count": 18,
   "id": "c89c4f88",
   "metadata": {},
   "outputs": [
    {
     "data": {
      "text/plain": [
       "Index(['Breathing Problem', 'Fever', 'Dry Cough', 'Sore throat', 'Asthma',\n",
       "       'Chronic Lung Disease', 'Diabetes', 'Hyper Tension', 'Abroad travel',\n",
       "       'Contact with COVID Patient', 'Attended Large Gathering',\n",
       "       'Visited Public Exposed Places',\n",
       "       'Family working in Public Exposed Places', 'COVID-19'],\n",
       "      dtype='object')"
      ]
     },
     "execution_count": 18,
     "metadata": {},
     "output_type": "execute_result"
    }
   ],
   "source": [
    "data.columns"
   ]
  },
  {
   "cell_type": "code",
   "execution_count": 19,
   "id": "3e655dc9",
   "metadata": {},
   "outputs": [],
   "source": [
    "questions = [\n",
    "{'ques':'Can I save details provided by you? Y/N '},\n",
    "{'ques':'Do you have any Breathing problem? Y/N '},\n",
    "{'ques':'Do you have Fever? Y/N '},\n",
    "{'ques':'Do you have Dry Cough? Y/N '},\n",
    "{'ques':'Do you have Sore throat? Y/N '},\n",
    "{'ques':'Do you have Asthma? Y/N '},\n",
    "{'ques':'Do you have Chronic Lung Disease? Y/N '},\n",
    "{'ques':'Do you have Diabetes? Y/N '},\n",
    "{'ques':'Do you have Hyper Tension? Y/N '},\n",
    "{'ques':'Have you travelled Abroad recently? Y/N '},\n",
    "{'ques':'Do you have any Contact with COVID Patient? Y/N '},\n",
    "{'ques':'Have you Attended Large Gathering recently? Y/N '},\n",
    "{'ques':'Have you Visited Public Exposed Places recently? Y/N '},\n",
    "{'ques':'Do you have any Family member working in Public Exposed Places? Y/N '}\n",
    " ]\n",
    "\n",
    "symp = []\n",
    "\n",
    "\n",
    "def translate(answer):\n",
    "    res = answer\n",
    "    if res.lower() == 'y' or  res.lower() == 'yes':\n",
    "        return 1\n",
    "    elif res.lower() == 'n' or res.lower() == 'no':\n",
    "        return 0\n",
    "    else:\n",
    "        return -1\n",
    "\n",
    "                \n",
    "def predict(symp):\n",
    "    global y_pred\n",
    "    \n",
    "    x=np.array([symp])\n",
    "\n",
    "    y_pred = gnb.predict(x)\n",
    "    y_prob = gnb.predict_proba(x)\n",
    "    \n",
    "    response = ''\n",
    "\n",
    "    if y_pred[0] == 0:\n",
    "        response = f'You do not have any symptoms of COVID-19. Stay safe! Stay home!. The chances that you are not affected with COVID-19 is{round(y_prob[0][0]*100)}%'\n",
    "    else:\n",
    "        response = f'You may be affected with COVID-19 virus! Please get RTPCR test ASAP and stay in Quarantine for 14days!. The chances that you are affected with COVID-19 is {round(y_prob[0][1]*100)}%'\n",
    "    return response\n",
    "\n",
    "def load_data(answers):\n",
    "    if answers[0] == 1:\n",
    "        user_data = pd.DataFrame(np.array(answers).reshape(1,15), columns = ['Can I save details provided by you?'\n",
    "        ,'Do you have any Breathing problem?','Do you have Fever?','Do you have Dry Cough?'\n",
    "        ,'Do you have Sore throat?','Do you have Asthma?','Do you have Chronic Lung Disease?','Do you have Diabetes?',\n",
    "        'Do you have Hyper Tension?','Have you travelled Abroad recently?','Do you have any Contact with COVID Patient?',\n",
    "        'Have you Attended Large Gathering recently?','Have you Visited Public Exposed Places recently?',\n",
    "        'Do you have any Family member working in Public Exposed Places?','Covid Yes/No'])\n",
    "        \n",
    "        user_data.to_csv('user_data_covid.csv', mode='a', index=False, header=False)"
   ]
  },
  {
   "cell_type": "markdown",
   "id": "51e65bf4",
   "metadata": {},
   "source": [
    "Taking some random values from test data set to use those values as reference to check chatbot  prediction accuracy"
   ]
  },
  {
   "cell_type": "code",
   "execution_count": 20,
   "id": "f5a384f0",
   "metadata": {},
   "outputs": [
    {
     "name": "stdout",
     "output_type": "stream",
     "text": [
      "[1 1 0 1 1 0 1 0 0 1 0 0 0]\n",
      "0\n"
     ]
    }
   ],
   "source": [
    "print(X_test[180])\n",
    "print(y_test[180])"
   ]
  },
  {
   "cell_type": "markdown",
   "id": "46b75d8b",
   "metadata": {},
   "source": [
    "Implementing in GUI"
   ]
  },
  {
   "cell_type": "code",
   "execution_count": 21,
   "id": "7fae4981",
   "metadata": {},
   "outputs": [],
   "source": [
    "#import files\n",
    "from flask import Flask, render_template, request"
   ]
  },
  {
   "cell_type": "code",
   "execution_count": 22,
   "id": "73300b74",
   "metadata": {},
   "outputs": [
    {
     "name": "stdout",
     "output_type": "stream",
     "text": [
      " * Serving Flask app \"__main__\" (lazy loading)\n",
      " * Environment: production\n",
      "   WARNING: This is a development server. Do not use it in a production deployment.\n",
      "   Use a production WSGI server instead.\n",
      " * Debug mode: off\n"
     ]
    },
    {
     "name": "stderr",
     "output_type": "stream",
     "text": [
      " * Running on http://127.0.0.1:5000/ (Press CTRL+C to quit)\n",
      "127.0.0.1 - - [16/Aug/2021 08:33:44] \"\u001b[37mGET / HTTP/1.1\u001b[0m\" 200 -\n",
      "127.0.0.1 - - [16/Aug/2021 08:33:44] \"\u001b[33mGET /favicon.ico HTTP/1.1\u001b[0m\" 404 -\n",
      "127.0.0.1 - - [16/Aug/2021 08:33:49] \"\u001b[37mGET /get?msg=Hey HTTP/1.1\u001b[0m\" 200 -\n",
      "127.0.0.1 - - [16/Aug/2021 08:33:52] \"\u001b[37mGET /get?msg=yes HTTP/1.1\u001b[0m\" 200 -\n",
      "127.0.0.1 - - [16/Aug/2021 08:33:53] \"\u001b[37mGET /get?msg=n HTTP/1.1\u001b[0m\" 200 -\n",
      "127.0.0.1 - - [16/Aug/2021 08:33:55] \"\u001b[37mGET /get?msg=n HTTP/1.1\u001b[0m\" 200 -\n",
      "127.0.0.1 - - [16/Aug/2021 08:33:58] \"\u001b[37mGET /get?msg=n HTTP/1.1\u001b[0m\" 200 -\n",
      "127.0.0.1 - - [16/Aug/2021 08:33:59] \"\u001b[37mGET /get?msg=y HTTP/1.1\u001b[0m\" 200 -\n",
      "127.0.0.1 - - [16/Aug/2021 08:34:01] \"\u001b[37mGET /get?msg=y HTTP/1.1\u001b[0m\" 200 -\n",
      "127.0.0.1 - - [16/Aug/2021 08:34:03] \"\u001b[37mGET /get?msg=y HTTP/1.1\u001b[0m\" 200 -\n",
      "127.0.0.1 - - [16/Aug/2021 08:34:04] \"\u001b[37mGET /get?msg=n HTTP/1.1\u001b[0m\" 200 -\n",
      "127.0.0.1 - - [16/Aug/2021 08:34:08] \"\u001b[37mGET /get?msg=y HTTP/1.1\u001b[0m\" 200 -\n",
      "127.0.0.1 - - [16/Aug/2021 08:34:09] \"\u001b[37mGET /get?msg=n HTTP/1.1\u001b[0m\" 200 -\n",
      "127.0.0.1 - - [16/Aug/2021 08:34:11] \"\u001b[37mGET /get?msg=no HTTP/1.1\u001b[0m\" 200 -\n",
      "127.0.0.1 - - [16/Aug/2021 08:34:14] \"\u001b[37mGET /get?msg=yes HTTP/1.1\u001b[0m\" 200 -\n",
      "127.0.0.1 - - [16/Aug/2021 08:34:16] \"\u001b[37mGET /get?msg=y HTTP/1.1\u001b[0m\" 200 -\n",
      "127.0.0.1 - - [16/Aug/2021 08:34:17] \"\u001b[37mGET /get?msg=n HTTP/1.1\u001b[0m\" 200 -\n"
     ]
    }
   ],
   "source": [
    "app = Flask(__name__)\n",
    "counter = 0\n",
    "answers = []\n",
    "@app.route(\"/\")\n",
    "def welcome():    \n",
    "    return render_template(\"home.html\") \n",
    "@app.route(\"/get\")\n",
    "def get_bot_response():    \n",
    "    userText = request.args.get(\"msg\")\n",
    "    global counter\n",
    "    global answers\n",
    "    reply = ''\n",
    "    res = translate(userText)\n",
    "#     print(\"counter = \",counter)\n",
    "    if counter == 0:\n",
    "        counter = counter + 1\n",
    "        reply = questions[counter-1]['ques']\n",
    "    elif counter > len(questions)+1:\n",
    "        return \"stop\"\n",
    "    elif res == 1 or res == 0:    \n",
    "        answers.append(res)\n",
    "        counter = counter + 1\n",
    "        if counter == len(questions)+1:\n",
    "            reply = predict(answers[1:])\n",
    "            answers.append(y_pred[0])\n",
    "            load_data(answers)\n",
    "            counter = counter + 1\n",
    "        else:\n",
    "            reply = questions[counter-1]['ques']\n",
    "\n",
    "    else:\n",
    "        reply = 'Incorrect answer! Please enter (Y/N)'+ questions[counter-1]['ques']\n",
    "    return reply \n",
    "if __name__ == \"__main__\": \n",
    "\n",
    "    app.run()"
   ]
  },
  {
   "cell_type": "code",
   "execution_count": null,
   "id": "dcdf108c",
   "metadata": {},
   "outputs": [],
   "source": []
  }
 ],
 "metadata": {
  "kernelspec": {
   "display_name": "Python 3",
   "language": "python",
   "name": "python3"
  },
  "language_info": {
   "codemirror_mode": {
    "name": "ipython",
    "version": 3
   },
   "file_extension": ".py",
   "mimetype": "text/x-python",
   "name": "python",
   "nbconvert_exporter": "python",
   "pygments_lexer": "ipython3",
   "version": "3.8.8"
  }
 },
 "nbformat": 4,
 "nbformat_minor": 5
}
